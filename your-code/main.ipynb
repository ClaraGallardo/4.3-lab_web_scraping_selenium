{
 "cells": [
  {
   "cell_type": "markdown",
   "metadata": {},
   "source": [
    "# Web Scraping Lab\n",
    "\n",
    "You will find in this notebook some scrapy exercises to practise your scraping skills.\n",
    "\n",
    "**Tips:**\n",
    "\n",
    "- Check the response status code for each request to ensure you have obtained the intended contennt.\n",
    "- Print the response text in each request to understand the kind of info you are getting and its format.\n",
    "- Check for patterns in the response text to extract the data/info requested in each question.\n",
    "- Visit each url and take a look at its source through Chrome DevTools. You'll need to identify the html tags, special class names etc. used for the html content you are expected to extract."
   ]
  },
  {
   "cell_type": "markdown",
   "metadata": {},
   "source": [
    "- [Selenium Doc](https://www.selenium.dev/documentation/)\n",
    "- [Requests library](http://docs.python-requests.org/en/master/#the-user-guide) documentation \n",
    "- [Urllib](https://docs.python.org/3/library/urllib.html#module-urllib)\n",
    "- [re lib](https://docs.python.org/3/library/re.html)\n",
    "- [lxml lib](https://lxml.de/)\n",
    "- [Scrapy](https://scrapy.org/)\n",
    "- [List of HTTP status codes](https://en.wikipedia.org/wiki/List_of_HTTP_status_codes)\n",
    "- [HTML basics](http://www.simplehtmlguide.com/cheatsheet.php)\n",
    "- [CSS basics](https://www.cssbasics.com/#page_start)"
   ]
  },
  {
   "cell_type": "markdown",
   "metadata": {},
   "source": [
    "#### Below are the libraries and modules you may need. `Selenium` and `pandas` are imported for you."
   ]
  },
  {
   "cell_type": "code",
   "execution_count": 1,
   "metadata": {},
   "outputs": [],
   "source": [
    "import pandas as pd\n",
    "\n",
    "from selenium import webdriver\n",
    "from webdriver_manager.chrome import ChromeDriverManager\n",
    "from selenium.webdriver.common.by import By\n",
    "PATH = \"driver/chromedriver.exe\"\n",
    "driver = webdriver.Chrome()"
   ]
  },
  {
   "cell_type": "markdown",
   "metadata": {},
   "source": [
    "#### Enable the options you may need. In the next cell you have an example of them but you can choose to use them or not."
   ]
  },
  {
   "cell_type": "code",
   "execution_count": 2,
   "metadata": {},
   "outputs": [],
   "source": [
    "#driver configuration\n",
    "#opciones=Options()\n",
    "\n",
    "#opciones.add_experimental_option('excludeSwitches', ['enable-automation'])\n",
    "#opciones.add_experimental_option('useAutomationExtension', False)\n",
    "#opciones.headless=False    # si True, no aperece la ventana (headless=no visible)\n",
    "#opciones.add_argument('--start-maximized')         # comienza maximizado\n",
    "#opciones.add_argument('user-data-dir=selenium')    # mantiene las cookies\n",
    "#opciones.add_extension('driver_folder/adblock.crx')       # adblocker\n",
    "#opciones.add_argument('--incognito')"
   ]
  },
  {
   "cell_type": "code",
   "execution_count": 3,
   "metadata": {},
   "outputs": [],
   "source": [
    "#driver = \"./chromedriver.exe\" #remember substitute this for your driver path\n",
    "#driver = webdriver.Chrome(driver,options = opciones)"
   ]
  },
  {
   "cell_type": "markdown",
   "metadata": {},
   "source": [
    "#### Download, parse, and print the content from the Trending Developers page from GitHub:"
   ]
  },
  {
   "cell_type": "code",
   "execution_count": 4,
   "metadata": {},
   "outputs": [],
   "source": [
    "# This is the url you will scrape in this exercise\n",
    "url = 'https://github.com/trending/developers' "
   ]
  },
  {
   "cell_type": "markdown",
   "metadata": {},
   "source": [
    "#### Display the names of the trending developers retrieved in the previous step.\n",
    "\n",
    "Your output should be a Python list of developer names. Each name should not contain any html tag.\n",
    "\n",
    "**Instructions:**\n",
    "\n",
    "1. Find out the html tag and class names used for the developer names.\n",
    "\n",
    "1. Use string manipulation techniques to replace whitespaces and linebreaks (i.e. `\\n`) in the *text* of each html element. Use a list to store the clean names.\n",
    "\n",
    "1. Print the list of names.\n",
    "\n",
    "Your output should look like below:\n",
    "\n",
    "```\n",
    "['trimstray (@trimstray)',\n",
    " 'joewalnes (JoeWalnes)',\n",
    " 'charlax (Charles-AxelDein)',\n",
    " 'ForrestKnight (ForrestKnight)',\n",
    " 'revery-ui (revery-ui)',\n",
    " 'alibaba (Alibaba)',\n",
    " 'Microsoft (Microsoft)',\n",
    " 'github (GitHub)',\n",
    " 'facebook (Facebook)',\n",
    " 'boazsegev (Bo)',\n",
    " 'google (Google)',\n",
    " 'cloudfetch',\n",
    " 'sindresorhus (SindreSorhus)',\n",
    " 'tensorflow',\n",
    " 'apache (TheApacheSoftwareFoundation)',\n",
    " 'DevonCrawford (DevonCrawford)',\n",
    " 'ARMmbed (ArmMbed)',\n",
    " 'vuejs (vuejs)',\n",
    " 'fastai (fast.ai)',\n",
    " 'QiShaoXuan (Qi)',\n",
    " 'joelparkerhenderson (JoelParkerHenderson)',\n",
    " 'torvalds (LinusTorvalds)',\n",
    " 'CyC2018',\n",
    " 'komeiji-satori (神楽坂覚々)',\n",
    " 'script-8']\n",
    " ```"
   ]
  },
  {
   "cell_type": "code",
   "execution_count": 5,
   "metadata": {},
   "outputs": [],
   "source": [
    "#your code\n",
    "PATH = \"driver/chromedriver.exe\"\n",
    "driver = webdriver.Chrome()\n",
    "\n",
    "driver.get(url)\n",
    " "
   ]
  },
  {
   "cell_type": "code",
   "execution_count": 6,
   "metadata": {},
   "outputs": [
    {
     "data": {
      "text/plain": [
       "'lllyasviel'"
      ]
     },
     "execution_count": 6,
     "metadata": {},
     "output_type": "execute_result"
    }
   ],
   "source": [
    "driver.find_elements(By.CSS_SELECTOR,'div.d-sm-flex.flex-auto > div.col-sm-8.d-md-flex > div:nth-child(1)')[0].text.replace('\\n' ,' = ')"
   ]
  },
  {
   "cell_type": "code",
   "execution_count": 7,
   "metadata": {},
   "outputs": [
    {
     "data": {
      "text/plain": [
       "['lllyasviel',\n",
       " 'Brad Fitzpatrick = bradfitz',\n",
       " 'Chris Banes = chrisbanes',\n",
       " 'Xiaoyu Zhang = BBuf',\n",
       " 'yihong = yihong0618',\n",
       " 'Brian Smith = briansmith',\n",
       " 'Yudong Jin = krahets',\n",
       " 'Stella Laurenzo = stellaraccident',\n",
       " 'Pedro Cattori = pcattori',\n",
       " 'Patrick von Platen = patrickvonplaten',\n",
       " 'Andrew Lock = andrewlock',\n",
       " 'Chi-Hsuan Huang = chihsuan',\n",
       " 'Vaibhav Srivastav = Vaibhavs10',\n",
       " '小弟调调 = jaywcjlove',\n",
       " \"John O'Reilly = joreilly\",\n",
       " 'Saúl Ibarra Corretgé = saghul',\n",
       " 'Jon Skeet = jskeet',\n",
       " 'Erik Schierboom = ErikSchierboom',\n",
       " 'Younes Belkada = younesbelkada',\n",
       " 'Howard Wu = howardwu',\n",
       " 'Vinta Chen = vinta',\n",
       " 'James Tucker = raggi',\n",
       " 'Zoltan Kochan = zkochan',\n",
       " 'George Hotz = geohot',\n",
       " 'Stan Girard = StanGirard']"
      ]
     },
     "execution_count": 7,
     "metadata": {},
     "output_type": "execute_result"
    }
   ],
   "source": [
    "trending=[e.text.replace('\\n' ,' = ') for e in driver.find_elements\n",
    "          (By.CSS_SELECTOR,'div.d-sm-flex.flex-auto > div.col-sm-8.d-md-flex > div:nth-child(1)')]\n",
    "trending"
   ]
  },
  {
   "cell_type": "markdown",
   "metadata": {},
   "source": [
    "#### Display the trending Python repositories in GitHub\n",
    "\n",
    "The steps to solve this problem is similar to the previous one except that you need to find out the repository names instead of developer names."
   ]
  },
  {
   "cell_type": "code",
   "execution_count": 8,
   "metadata": {},
   "outputs": [],
   "source": [
    "# This is the url you will scrape in this exercise\n",
    "url = 'https://github.com/trending/python?since=daily'"
   ]
  },
  {
   "cell_type": "code",
   "execution_count": 9,
   "metadata": {},
   "outputs": [],
   "source": [
    "#your code:\n",
    "driver.get(url)"
   ]
  },
  {
   "cell_type": "code",
   "execution_count": 10,
   "metadata": {},
   "outputs": [
    {
     "data": {
      "text/plain": [
       "'dataelement / bisheng'"
      ]
     },
     "execution_count": 10,
     "metadata": {},
     "output_type": "execute_result"
    }
   ],
   "source": [
    "driver.find_element(By.XPATH,'//h2//a').text"
   ]
  },
  {
   "cell_type": "code",
   "execution_count": 11,
   "metadata": {},
   "outputs": [],
   "source": [
    "repos= [e.text for e in driver.find_elements(By.XPATH,'//h2//a') ] "
   ]
  },
  {
   "cell_type": "markdown",
   "metadata": {},
   "source": [
    "#### Display all the image links from Walt Disney wikipedia page"
   ]
  },
  {
   "cell_type": "code",
   "execution_count": 12,
   "metadata": {},
   "outputs": [],
   "source": [
    "# This is the url you will scrape in this exercise\n",
    "url = 'https://en.wikipedia.org/wiki/Walt_Disney'"
   ]
  },
  {
   "cell_type": "code",
   "execution_count": 13,
   "metadata": {},
   "outputs": [],
   "source": [
    "#your code:\n",
    "driver.get(url)"
   ]
  },
  {
   "cell_type": "code",
   "execution_count": 14,
   "metadata": {},
   "outputs": [
    {
     "data": {
      "text/plain": [
       "'https://en.wikipedia.org/static/images/icons/wikipedia.png'"
      ]
     },
     "execution_count": 14,
     "metadata": {},
     "output_type": "execute_result"
    }
   ],
   "source": [
    "driver.find_elements(By.XPATH,'//img')[0].get_attribute('src')"
   ]
  },
  {
   "cell_type": "code",
   "execution_count": 15,
   "metadata": {},
   "outputs": [
    {
     "data": {
      "text/plain": [
       "['https://en.wikipedia.org/static/images/icons/wikipedia.png',\n",
       " 'https://en.wikipedia.org/static/images/mobile/copyright/wikipedia-wordmark-en.svg',\n",
       " 'https://en.wikipedia.org/static/images/mobile/copyright/wikipedia-tagline-en.svg']"
      ]
     },
     "execution_count": 15,
     "metadata": {},
     "output_type": "execute_result"
    }
   ],
   "source": [
    "links=[driver.find_elements(By.XPATH,'//img')[e].get_attribute('src') for e in range(len(driver.find_elements(By.XPATH,'//img'))) ]\n",
    "\n",
    "links[:3]"
   ]
  },
  {
   "cell_type": "markdown",
   "metadata": {},
   "source": [
    "#### Retrieve an arbitary Wikipedia page of \"Python\" and create a list of links on that page"
   ]
  },
  {
   "cell_type": "code",
   "execution_count": 16,
   "metadata": {},
   "outputs": [],
   "source": [
    "# This is the url you will scrape in this exercise\n",
    "url ='https://en.wikipedia.org/wiki/Python' "
   ]
  },
  {
   "cell_type": "code",
   "execution_count": 17,
   "metadata": {},
   "outputs": [],
   "source": [
    "#your code:\n",
    "driver.get(url)"
   ]
  },
  {
   "cell_type": "code",
   "execution_count": 18,
   "metadata": {},
   "outputs": [
    {
     "data": {
      "text/plain": [
       "'https://en.wikipedia.org/wiki/Python#bodyContent'"
      ]
     },
     "execution_count": 18,
     "metadata": {},
     "output_type": "execute_result"
    }
   ],
   "source": [
    "a=driver.find_elements(By.XPATH,'//a')[0].get_attribute('href')\n",
    "a"
   ]
  },
  {
   "cell_type": "code",
   "execution_count": 19,
   "metadata": {},
   "outputs": [
    {
     "data": {
      "text/plain": [
       "['https://en.wikipedia.org/wiki/Python#bodyContent',\n",
       " 'https://en.wikipedia.org/wiki/Main_Page',\n",
       " 'https://en.wikipedia.org/wiki/Wikipedia:Contents']"
      ]
     },
     "execution_count": 19,
     "metadata": {},
     "output_type": "execute_result"
    }
   ],
   "source": [
    "links=[driver.find_elements(By.XPATH,'//a')[i].get_attribute('href') for i in range (len(driver.find_elements(By.XPATH,'//a')))]\n",
    "links[:3]"
   ]
  },
  {
   "cell_type": "markdown",
   "metadata": {},
   "source": [
    "#### Number of Titles that have changed in the United States Code since its last release point "
   ]
  },
  {
   "cell_type": "code",
   "execution_count": 20,
   "metadata": {},
   "outputs": [],
   "source": [
    "# This is the url you will scrape in this exercise\n",
    "url = 'http://uscode.house.gov/download/download.shtml'"
   ]
  },
  {
   "cell_type": "code",
   "execution_count": 21,
   "metadata": {},
   "outputs": [],
   "source": [
    "#your code\n",
    "driver.get(url) "
   ]
  },
  {
   "cell_type": "code",
   "execution_count": 22,
   "metadata": {},
   "outputs": [
    {
     "data": {
      "text/plain": [
       "'Title 20 - Education'"
      ]
     },
     "execution_count": 22,
     "metadata": {},
     "output_type": "execute_result"
    }
   ],
   "source": [
    "driver.find_element(By.XPATH, '//div//div[@class=\"usctitlechanged\"]').text"
   ]
  },
  {
   "cell_type": "code",
   "execution_count": 23,
   "metadata": {},
   "outputs": [
    {
     "data": {
      "text/plain": [
       "['Title 20 - Education', \"Title 38 - Veterans' Benefits ٭\"]"
      ]
     },
     "execution_count": 23,
     "metadata": {},
     "output_type": "execute_result"
    }
   ],
   "source": [
    "tittle=driver.find_elements(By.XPATH, '//div//div[@class=\"usctitlechanged\"]')\n",
    "\n",
    "changed_tittle=[e.text for e in tittle]\n",
    "changed_tittle"
   ]
  },
  {
   "cell_type": "markdown",
   "metadata": {},
   "source": [
    "#### A Python list with the top ten FBI's Most Wanted names "
   ]
  },
  {
   "cell_type": "code",
   "execution_count": 24,
   "metadata": {},
   "outputs": [],
   "source": [
    "# This is the url you will scrape in this exercise\n",
    "url = 'https://www.fbi.gov/wanted/topten'"
   ]
  },
  {
   "cell_type": "code",
   "execution_count": 25,
   "metadata": {},
   "outputs": [],
   "source": [
    "#your code:\n",
    "driver.get(url)"
   ]
  },
  {
   "cell_type": "code",
   "execution_count": 26,
   "metadata": {},
   "outputs": [
    {
     "data": {
      "text/plain": [
       "'ALEXIS FLORES'"
      ]
     },
     "execution_count": 26,
     "metadata": {},
     "output_type": "execute_result"
    }
   ],
   "source": [
    "driver.find_element(By.XPATH,'//h3//a').text"
   ]
  },
  {
   "cell_type": "code",
   "execution_count": 27,
   "metadata": {},
   "outputs": [
    {
     "data": {
      "text/plain": [
       "['ALEXIS FLORES', 'ARNOLDO JIMENEZ', 'OMAR ALEXANDER CARDENAS']"
      ]
     },
     "execution_count": 27,
     "metadata": {},
     "output_type": "execute_result"
    }
   ],
   "source": [
    "nombres=driver.find_elements(By.XPATH,'//h3//a')\n",
    "lista_nombres=[e.text for e in nombres]\n",
    "lista_nombres[:3]"
   ]
  },
  {
   "cell_type": "markdown",
   "metadata": {},
   "source": [
    "####  20 latest earthquakes info (date, time, latitude, longitude and region name) by the EMSC as a pandas dataframe"
   ]
  },
  {
   "cell_type": "code",
   "execution_count": 36,
   "metadata": {},
   "outputs": [],
   "source": [
    "# This is the url you will scrape in this exercise\n",
    "url = 'https://www.emsc-csem.org/Earthquake/'"
   ]
  },
  {
   "cell_type": "code",
   "execution_count": 37,
   "metadata": {},
   "outputs": [],
   "source": [
    "#your code:\n",
    "driver.get(url)"
   ]
  },
  {
   "cell_type": "code",
   "execution_count": 84,
   "metadata": {},
   "outputs": [
    {
     "data": {
      "text/plain": [
       "['Citizen response',\n",
       " 'Date & Time UTC',\n",
       " 'Lat. degrees',\n",
       " 'Lon. degrees',\n",
       " 'Depth km',\n",
       " 'Mag.[+]',\n",
       " 'Region']"
      ]
     },
     "execution_count": 84,
     "metadata": {},
     "output_type": "execute_result"
    }
   ],
   "source": [
    "columnas = [e.text.replace('\\n', ' ') for e in driver.find_element(By.CSS_SELECTOR, 'table.eqs.table-scroll').find_element(By.CSS_SELECTOR, 'thead').find_elements(By.CSS_SELECTOR, 'th')][1:]\n",
    "\n",
    "columnas"
   ]
  },
  {
   "cell_type": "code",
   "execution_count": 74,
   "metadata": {},
   "outputs": [
    {
     "data": {
      "text/plain": [
       "100"
      ]
     },
     "execution_count": 74,
     "metadata": {},
     "output_type": "execute_result"
    }
   ],
   "source": [
    "filas = driver.find_element(By.CLASS_NAME, 'eqs.table-scroll').find_element(By.TAG_NAME, 'tbody').find_elements(By.TAG_NAME, 'tr')"
   ]
  },
  {
   "cell_type": "code",
   "execution_count": 42,
   "metadata": {},
   "outputs": [],
   "source": [
    "data = []\n",
    "for fila in filas:\n",
    "    cols = fila.find_elements(By.TAG_NAME ,\"td\")\n",
    "    relleno = []\n",
    "    for col in cols:\n",
    "        relleno.append(col.text)\n",
    "\n",
    "\n",
    "    data.append(relleno)"
   ]
  },
  {
   "cell_type": "code",
   "execution_count": 91,
   "metadata": {},
   "outputs": [],
   "source": [
    "df=pd.DataFrame(data)\n",
    "df = df.iloc[:, 3:]\n"
   ]
  },
  {
   "cell_type": "code",
   "execution_count": 92,
   "metadata": {},
   "outputs": [
    {
     "data": {
      "text/html": [
       "<div>\n",
       "<style scoped>\n",
       "    .dataframe tbody tr th:only-of-type {\n",
       "        vertical-align: middle;\n",
       "    }\n",
       "\n",
       "    .dataframe tbody tr th {\n",
       "        vertical-align: top;\n",
       "    }\n",
       "\n",
       "    .dataframe thead th {\n",
       "        text-align: right;\n",
       "    }\n",
       "</style>\n",
       "<table border=\"1\" class=\"dataframe\">\n",
       "  <thead>\n",
       "    <tr style=\"text-align: right;\">\n",
       "      <th></th>\n",
       "      <th>3</th>\n",
       "      <th>4</th>\n",
       "      <th>5</th>\n",
       "      <th>6</th>\n",
       "      <th>7</th>\n",
       "      <th>8</th>\n",
       "      <th>9</th>\n",
       "    </tr>\n",
       "  </thead>\n",
       "  <tbody>\n",
       "    <tr>\n",
       "      <th>0</th>\n",
       "      <td>2023-11-02 18:36:30\\n6 min ago</td>\n",
       "      <td>36.894</td>\n",
       "      <td>-121.617</td>\n",
       "      <td>0</td>\n",
       "      <td></td>\n",
       "      <td>2.3</td>\n",
       "      <td>CENTRAL CALIFORNIA</td>\n",
       "    </tr>\n",
       "    <tr>\n",
       "      <th>1</th>\n",
       "      <td>2023-11-02 18:31:37\\n11 min ago</td>\n",
       "      <td>38.810</td>\n",
       "      <td>-122.802</td>\n",
       "      <td>3</td>\n",
       "      <td></td>\n",
       "      <td>2.2</td>\n",
       "      <td>NORTHERN CALIFORNIA</td>\n",
       "    </tr>\n",
       "    <tr>\n",
       "      <th>2</th>\n",
       "      <td>2023-11-02 18:16:10\\n26 min ago</td>\n",
       "      <td>45.926</td>\n",
       "      <td>2.846</td>\n",
       "      <td>5</td>\n",
       "      <td></td>\n",
       "      <td>2.3</td>\n",
       "      <td>FRANCE</td>\n",
       "    </tr>\n",
       "    <tr>\n",
       "      <th>3</th>\n",
       "      <td>2023-11-02 18:10:47\\n31 min ago</td>\n",
       "      <td>37.845</td>\n",
       "      <td>36.347</td>\n",
       "      <td>5</td>\n",
       "      <td></td>\n",
       "      <td>2.9</td>\n",
       "      <td>CENTRAL TURKEY</td>\n",
       "    </tr>\n",
       "    <tr>\n",
       "      <th>4</th>\n",
       "      <td>2023-11-02 18:07:03\\n35 min ago</td>\n",
       "      <td>38.170</td>\n",
       "      <td>21.670</td>\n",
       "      <td>10</td>\n",
       "      <td></td>\n",
       "      <td>2.3</td>\n",
       "      <td>GREECE</td>\n",
       "    </tr>\n",
       "    <tr>\n",
       "      <th>...</th>\n",
       "      <td>...</td>\n",
       "      <td>...</td>\n",
       "      <td>...</td>\n",
       "      <td>...</td>\n",
       "      <td>...</td>\n",
       "      <td>...</td>\n",
       "      <td>...</td>\n",
       "    </tr>\n",
       "    <tr>\n",
       "      <th>95</th>\n",
       "      <td>2023-11-02 08:27:10\\n10 hr 15 min ago</td>\n",
       "      <td>40.500</td>\n",
       "      <td>24.310</td>\n",
       "      <td>5</td>\n",
       "      <td></td>\n",
       "      <td>2.2</td>\n",
       "      <td>AEGEAN SEA</td>\n",
       "    </tr>\n",
       "    <tr>\n",
       "      <th>96</th>\n",
       "      <td>2023-11-02 08:24:52\\n10 hr 17 min ago</td>\n",
       "      <td>17.170</td>\n",
       "      <td>-94.580</td>\n",
       "      <td>126</td>\n",
       "      <td></td>\n",
       "      <td>3.4</td>\n",
       "      <td>OAXACA, MEXICO</td>\n",
       "    </tr>\n",
       "    <tr>\n",
       "      <th>97</th>\n",
       "      <td>2023-11-02 08:19:59\\n10 hr 22 min ago</td>\n",
       "      <td>-30.790</td>\n",
       "      <td>-71.590</td>\n",
       "      <td>26</td>\n",
       "      <td></td>\n",
       "      <td>3.8</td>\n",
       "      <td>COQUIMBO, CHILE</td>\n",
       "    </tr>\n",
       "    <tr>\n",
       "      <th>98</th>\n",
       "      <td>2023-11-02 08:17:40\\n10 hr 24 min ago</td>\n",
       "      <td>38.306</td>\n",
       "      <td>37.793</td>\n",
       "      <td>5</td>\n",
       "      <td></td>\n",
       "      <td>2.8</td>\n",
       "      <td>CENTRAL TURKEY</td>\n",
       "    </tr>\n",
       "    <tr>\n",
       "      <th>99</th>\n",
       "      <td>2023-11-02 08:16:02\\n10 hr 26 min ago</td>\n",
       "      <td>37.015</td>\n",
       "      <td>30.567</td>\n",
       "      <td>81</td>\n",
       "      <td></td>\n",
       "      <td>2.2</td>\n",
       "      <td>WESTERN TURKEY</td>\n",
       "    </tr>\n",
       "  </tbody>\n",
       "</table>\n",
       "<p>100 rows × 7 columns</p>\n",
       "</div>"
      ],
      "text/plain": [
       "                                        3        4         5    6 7     8  \\\n",
       "0          2023-11-02 18:36:30\\n6 min ago   36.894  -121.617    0     2.3   \n",
       "1         2023-11-02 18:31:37\\n11 min ago   38.810  -122.802    3     2.2   \n",
       "2         2023-11-02 18:16:10\\n26 min ago   45.926     2.846    5     2.3   \n",
       "3         2023-11-02 18:10:47\\n31 min ago   37.845    36.347    5     2.9   \n",
       "4         2023-11-02 18:07:03\\n35 min ago   38.170    21.670   10     2.3   \n",
       "..                                    ...      ...       ...  ... ..  ...   \n",
       "95  2023-11-02 08:27:10\\n10 hr 15 min ago   40.500    24.310    5     2.2   \n",
       "96  2023-11-02 08:24:52\\n10 hr 17 min ago   17.170   -94.580  126     3.4   \n",
       "97  2023-11-02 08:19:59\\n10 hr 22 min ago  -30.790   -71.590   26     3.8   \n",
       "98  2023-11-02 08:17:40\\n10 hr 24 min ago   38.306    37.793    5     2.8   \n",
       "99  2023-11-02 08:16:02\\n10 hr 26 min ago   37.015    30.567   81     2.2   \n",
       "\n",
       "                      9  \n",
       "0    CENTRAL CALIFORNIA  \n",
       "1   NORTHERN CALIFORNIA  \n",
       "2                FRANCE  \n",
       "3        CENTRAL TURKEY  \n",
       "4                GREECE  \n",
       "..                  ...  \n",
       "95           AEGEAN SEA  \n",
       "96       OAXACA, MEXICO  \n",
       "97      COQUIMBO, CHILE  \n",
       "98       CENTRAL TURKEY  \n",
       "99       WESTERN TURKEY  \n",
       "\n",
       "[100 rows x 7 columns]"
      ]
     },
     "execution_count": 92,
     "metadata": {},
     "output_type": "execute_result"
    }
   ],
   "source": [
    "df"
   ]
  },
  {
   "cell_type": "code",
   "execution_count": 96,
   "metadata": {},
   "outputs": [
    {
     "data": {
      "text/html": [
       "<div>\n",
       "<style scoped>\n",
       "    .dataframe tbody tr th:only-of-type {\n",
       "        vertical-align: middle;\n",
       "    }\n",
       "\n",
       "    .dataframe tbody tr th {\n",
       "        vertical-align: top;\n",
       "    }\n",
       "\n",
       "    .dataframe thead th {\n",
       "        text-align: right;\n",
       "    }\n",
       "</style>\n",
       "<table border=\"1\" class=\"dataframe\">\n",
       "  <thead>\n",
       "    <tr style=\"text-align: right;\">\n",
       "      <th></th>\n",
       "      <th>Citizen response</th>\n",
       "      <th>Date &amp; Time UTC</th>\n",
       "      <th>Lat. degrees</th>\n",
       "      <th>Lon. degrees</th>\n",
       "      <th>Depth km</th>\n",
       "      <th>Mag.[+]</th>\n",
       "      <th>Region</th>\n",
       "    </tr>\n",
       "  </thead>\n",
       "  <tbody>\n",
       "    <tr>\n",
       "      <th>0</th>\n",
       "      <td>2023-11-02 18:36:30\\n6 min ago</td>\n",
       "      <td>36.894</td>\n",
       "      <td>-121.617</td>\n",
       "      <td>0</td>\n",
       "      <td></td>\n",
       "      <td>2.3</td>\n",
       "      <td>CENTRAL CALIFORNIA</td>\n",
       "    </tr>\n",
       "    <tr>\n",
       "      <th>1</th>\n",
       "      <td>2023-11-02 18:31:37\\n11 min ago</td>\n",
       "      <td>38.810</td>\n",
       "      <td>-122.802</td>\n",
       "      <td>3</td>\n",
       "      <td></td>\n",
       "      <td>2.2</td>\n",
       "      <td>NORTHERN CALIFORNIA</td>\n",
       "    </tr>\n",
       "    <tr>\n",
       "      <th>2</th>\n",
       "      <td>2023-11-02 18:16:10\\n26 min ago</td>\n",
       "      <td>45.926</td>\n",
       "      <td>2.846</td>\n",
       "      <td>5</td>\n",
       "      <td></td>\n",
       "      <td>2.3</td>\n",
       "      <td>FRANCE</td>\n",
       "    </tr>\n",
       "    <tr>\n",
       "      <th>3</th>\n",
       "      <td>2023-11-02 18:10:47\\n31 min ago</td>\n",
       "      <td>37.845</td>\n",
       "      <td>36.347</td>\n",
       "      <td>5</td>\n",
       "      <td></td>\n",
       "      <td>2.9</td>\n",
       "      <td>CENTRAL TURKEY</td>\n",
       "    </tr>\n",
       "    <tr>\n",
       "      <th>4</th>\n",
       "      <td>2023-11-02 18:07:03\\n35 min ago</td>\n",
       "      <td>38.170</td>\n",
       "      <td>21.670</td>\n",
       "      <td>10</td>\n",
       "      <td></td>\n",
       "      <td>2.3</td>\n",
       "      <td>GREECE</td>\n",
       "    </tr>\n",
       "  </tbody>\n",
       "</table>\n",
       "</div>"
      ],
      "text/plain": [
       "                  Citizen response Date & Time UTC Lat. degrees Lon. degrees  \\\n",
       "0   2023-11-02 18:36:30\\n6 min ago          36.894     -121.617            0   \n",
       "1  2023-11-02 18:31:37\\n11 min ago          38.810     -122.802            3   \n",
       "2  2023-11-02 18:16:10\\n26 min ago          45.926        2.846            5   \n",
       "3  2023-11-02 18:10:47\\n31 min ago          37.845       36.347            5   \n",
       "4  2023-11-02 18:07:03\\n35 min ago          38.170       21.670           10   \n",
       "\n",
       "  Depth km Mag.[+]               Region  \n",
       "0              2.3   CENTRAL CALIFORNIA  \n",
       "1              2.2  NORTHERN CALIFORNIA  \n",
       "2              2.3               FRANCE  \n",
       "3              2.9       CENTRAL TURKEY  \n",
       "4              2.3               GREECE  "
      ]
     },
     "execution_count": 96,
     "metadata": {},
     "output_type": "execute_result"
    }
   ],
   "source": [
    "df.columns=columnas\n",
    "df.head()"
   ]
  },
  {
   "cell_type": "markdown",
   "metadata": {},
   "source": [
    "#### Count number of tweets by a given Twitter account."
   ]
  },
  {
   "cell_type": "markdown",
   "metadata": {},
   "source": [
    "You will need to include a ***try/except block*** for account names not found. \n",
    "<br>***Hint:*** the program should count the number of tweets for any provided account"
   ]
  },
  {
   "cell_type": "code",
   "execution_count": 94,
   "metadata": {},
   "outputs": [],
   "source": [
    "# This is the url you will scrape in this exercise \n",
    "# You will need to add the account credentials to this url\n",
    "url = 'https://twitter.com/'\n",
    "driver.get(url)"
   ]
  },
  {
   "cell_type": "markdown",
   "metadata": {},
   "source": [
    "#### Number of followers of a given twitter account"
   ]
  },
  {
   "cell_type": "markdown",
   "metadata": {},
   "source": [
    "You will need to include a ***try/except block*** in case account/s name not found. \n",
    "<br>***Hint:*** the program should count the followers for any provided account"
   ]
  },
  {
   "cell_type": "code",
   "execution_count": null,
   "metadata": {},
   "outputs": [],
   "source": [
    "# This is the url you will scrape in this exercise \n",
    "# You will need to add the account credentials to this url\n",
    "url = 'https://twitter.com/'"
   ]
  },
  {
   "cell_type": "code",
   "execution_count": null,
   "metadata": {},
   "outputs": [],
   "source": [
    "#your code:\n"
   ]
  },
  {
   "cell_type": "markdown",
   "metadata": {},
   "source": [
    "#### List all language names and number of related articles in the order they appear in wikipedia.org"
   ]
  },
  {
   "cell_type": "code",
   "execution_count": 97,
   "metadata": {},
   "outputs": [],
   "source": [
    "# This is the url you will scrape in this exercise\n",
    "url = 'https://www.wikipedia.org/'\n",
    "driver.get(url)"
   ]
  },
  {
   "cell_type": "code",
   "execution_count": 98,
   "metadata": {},
   "outputs": [],
   "source": [
    "#your code:\n",
    "todo=driver.find_elements(By.CSS_SELECTOR, 'div.central-featured')[0].text.split('\\n')"
   ]
  },
  {
   "cell_type": "code",
   "execution_count": 99,
   "metadata": {},
   "outputs": [
    {
     "data": {
      "text/plain": [
       "{'Español': '1 892 000+ artículos',\n",
       " 'English': '6 715 000+ articles',\n",
       " '日本語': '1 387 000+ 記事',\n",
       " 'Русский': '1 938 000+ статей',\n",
       " 'Deutsch': '2 836 000+ Artikel',\n",
       " 'Français': '2 553 000+ articles',\n",
       " 'Italiano': '1 826 000+ voci',\n",
       " '中文': '1 377 000+ 条目 / 條目',\n",
       " 'Português': '1 109 000+ artigos',\n",
       " 'العربية': '1 217 000+ مقالة'}"
      ]
     },
     "execution_count": 99,
     "metadata": {},
     "output_type": "execute_result"
    }
   ],
   "source": [
    "language={}\n",
    "for i in range(0, len(todo), 2):\n",
    "    clave = todo[i]\n",
    "    valor = todo[i + 1]\n",
    "    language[clave] = valor\n",
    "\n",
    "language"
   ]
  },
  {
   "cell_type": "markdown",
   "metadata": {},
   "source": [
    "#### A list with the different kind of datasets available in data.gov.uk "
   ]
  },
  {
   "cell_type": "code",
   "execution_count": 100,
   "metadata": {},
   "outputs": [],
   "source": [
    "# This is the url you will scrape in this exercise\n",
    "url = 'https://data.gov.uk/'\n",
    "driver.get(url)"
   ]
  },
  {
   "cell_type": "code",
   "execution_count": 101,
   "metadata": {},
   "outputs": [],
   "source": [
    "#your code :\n",
    "\n",
    "data=driver.find_elements(By.CSS_SELECTOR,'div:nth-child(3) > div > ul>li')[0].find_elements(By.CSS_SELECTOR,'h3')"
   ]
  },
  {
   "cell_type": "code",
   "execution_count": 102,
   "metadata": {},
   "outputs": [
    {
     "data": {
      "text/plain": [
       "['Business and economy',\n",
       " 'Crime and justice',\n",
       " 'Defence',\n",
       " 'Education',\n",
       " 'Environment',\n",
       " 'Government',\n",
       " 'Government spending',\n",
       " 'Health',\n",
       " 'Mapping',\n",
       " 'Society',\n",
       " 'Towns and cities',\n",
       " 'Transport',\n",
       " 'Digital service performance',\n",
       " 'Government reference data']"
      ]
     },
     "execution_count": 102,
     "metadata": {},
     "output_type": "execute_result"
    }
   ],
   "source": [
    "lst=[]\n",
    "\n",
    "for e in range(len(driver.find_elements(By.CSS_SELECTOR,'div:nth-child(3) > div > ul>li'))):\n",
    "    dato=driver.find_elements(By.CSS_SELECTOR,'div:nth-child(3) > div > ul>li')[e].find_elements(By.CSS_SELECTOR,'h3')[0].text\n",
    "    lst.append(dato)\n",
    "\n",
    "lst"
   ]
  },
  {
   "cell_type": "markdown",
   "metadata": {},
   "source": [
    "#### Top 10 languages by number of native speakers stored in a Pandas Dataframe"
   ]
  },
  {
   "cell_type": "code",
   "execution_count": 103,
   "metadata": {},
   "outputs": [],
   "source": [
    "# This is the url you will scrape in this exercise\n",
    "url = 'https://en.wikipedia.org/wiki/List_of_languages_by_number_of_native_speakers'\n",
    "driver.get(url)"
   ]
  },
  {
   "cell_type": "code",
   "execution_count": 104,
   "metadata": {},
   "outputs": [
    {
     "data": {
      "text/plain": [
       "'Languages with at least 50 million first-language speakers[7]\\nLanguage Native speakers\\n(millions) Language family Branch\\nMandarin Chinese\\n(incl. Standard Chinese, but excl. other varieties) 939 Sino-Tibetan Sinitic\\nSpanish 485 Indo-European Romance\\nEnglish 380 Indo-European Germanic\\nHindi\\n(excl. Urdu, and other languages) 345 Indo-European Indo-Aryan\\nPortuguese 236 Indo-European Romance\\nBengali 234 Indo-European Indo-Aryan\\nRussian 147 Indo-European Balto-Slavic\\nJapanese 123 Japonic Japanese\\nYue Chinese\\n(incl. Cantonese) 86.1 Sino-Tibetan Sinitic\\nVietnamese 85.0 Austroasiatic Vietic\\nTurkish 84.0 Turkic Oghuz\\nWu Chinese\\n(incl. Shanghainese) 83.4 Sino-Tibetan Sinitic\\nMarathi 83.2 Indo-European Indo-Aryan\\nTelugu 83.0 Dravidian South-Central\\nKorean 81.7 Koreanic —\\nFrench 80.8 Indo-European Romance\\nTamil 78.6 Dravidian South\\nEgyptian Spoken Arabic\\n(excl. Saʽidi Arabic) 77.4 Afroasiatic Semitic\\nStandard German 75.3 Indo-European Germanic\\nUrdu\\n(excl. Hindi) 70.6 Indo-European Indo-Aryan\\nJavanese 68.3 Austronesian Malayo-Polynesian\\nWestern Punjabi\\n(excl. Eastern Punjabi) 66.7 Indo-European Indo-Aryan\\nItalian 64.6 Indo-European Romance\\nGujarati 57.1 Indo-European Indo-Aryan\\nIranian Persian\\n(excl. Dari and Tajik) 57.2 Indo-European Iranian\\nBhojpuri 52.3 Indo-European Indo-Aryan\\nHausa 51.7 Afroasiatic Chadic'"
      ]
     },
     "execution_count": 104,
     "metadata": {},
     "output_type": "execute_result"
    }
   ],
   "source": [
    "#your code:\n",
    "driver.find_elements(By.CSS_SELECTOR,'div.mw-parser-output > table.wikitable.sortable.static-row-numbers.jquery-tablesorter')[0].text\n"
   ]
  },
  {
   "cell_type": "markdown",
   "metadata": {},
   "source": [
    "### BONUS QUESTIONS"
   ]
  },
  {
   "cell_type": "markdown",
   "metadata": {},
   "source": [
    "#### Scrape a certain number of tweets of a given Twitter account."
   ]
  },
  {
   "cell_type": "code",
   "execution_count": null,
   "metadata": {},
   "outputs": [],
   "source": [
    "# This is the url you will scrape in this exercise \n",
    "# You will need to add the account credentials to this url\n",
    "url = 'https://twitter.com/'"
   ]
  },
  {
   "cell_type": "code",
   "execution_count": null,
   "metadata": {},
   "outputs": [],
   "source": [
    "# your code"
   ]
  },
  {
   "cell_type": "markdown",
   "metadata": {},
   "source": [
    "#### IMDB's Top 250 data (movie name, Initial release, director name and stars) as a pandas dataframe"
   ]
  },
  {
   "cell_type": "code",
   "execution_count": null,
   "metadata": {},
   "outputs": [],
   "source": [
    "# This is the url you will scrape in this exercise \n",
    "url = 'https://www.imdb.com/chart/top'"
   ]
  },
  {
   "cell_type": "code",
   "execution_count": null,
   "metadata": {},
   "outputs": [],
   "source": [
    "# your code"
   ]
  },
  {
   "cell_type": "markdown",
   "metadata": {},
   "source": [
    "#### Movie name, year and a brief summary of the top 10 random movies (IMDB) as a pandas dataframe."
   ]
  },
  {
   "cell_type": "code",
   "execution_count": null,
   "metadata": {},
   "outputs": [],
   "source": [
    "#This is the url you will scrape in this exercise\n",
    "url = 'http://www.imdb.com/chart/top'"
   ]
  },
  {
   "cell_type": "code",
   "execution_count": null,
   "metadata": {},
   "outputs": [],
   "source": [
    "#your code"
   ]
  },
  {
   "cell_type": "markdown",
   "metadata": {},
   "source": [
    "#### Find the live weather report (temperature, wind speed, description and weather) of a given city."
   ]
  },
  {
   "cell_type": "code",
   "execution_count": null,
   "metadata": {},
   "outputs": [],
   "source": [
    "#https://openweathermap.org/current\n",
    "city = city=input('Enter the city:')\n",
    "url = 'http://api.openweathermap.org/data/2.5/weather?'+'q='+city+'&APPID=b35975e18dc93725acb092f7272cc6b8&units=metric'"
   ]
  },
  {
   "cell_type": "code",
   "execution_count": null,
   "metadata": {},
   "outputs": [],
   "source": [
    "# your code"
   ]
  },
  {
   "cell_type": "markdown",
   "metadata": {},
   "source": [
    "#### Book name,price and stock availability as a pandas dataframe."
   ]
  },
  {
   "cell_type": "code",
   "execution_count": null,
   "metadata": {},
   "outputs": [],
   "source": [
    "# This is the url you will scrape in this exercise. \n",
    "# It is a fictional bookstore created to be scraped. \n",
    "url = 'http://books.toscrape.com/'"
   ]
  },
  {
   "cell_type": "code",
   "execution_count": null,
   "metadata": {},
   "outputs": [],
   "source": [
    "#your code"
   ]
  }
 ],
 "metadata": {
  "kernelspec": {
   "display_name": "Python 3",
   "language": "python",
   "name": "python3"
  },
  "language_info": {
   "codemirror_mode": {
    "name": "ipython",
    "version": 3
   },
   "file_extension": ".py",
   "mimetype": "text/x-python",
   "name": "python",
   "nbconvert_exporter": "python",
   "pygments_lexer": "ipython3",
   "version": "3.10.13"
  }
 },
 "nbformat": 4,
 "nbformat_minor": 2
}
